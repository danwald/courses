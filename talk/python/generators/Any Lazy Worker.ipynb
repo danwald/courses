{
 "cells": [
  {
   "cell_type": "markdown",
   "metadata": {},
   "source": [
    "_Help on built-in function any in module builtins:_\n",
    "\n",
    "```\n",
    "any(iterable, /)\n",
    "    Return True if bool(x) is True for any x in the iterable.\n",
    "    \n",
    "    If the iterable is empty, return False.\n",
    "```"
   ]
  },
  {
   "cell_type": "code",
   "execution_count": null,
   "metadata": {},
   "outputs": [],
   "source": [
    "import random\n",
    "import time\n",
    "\n",
    "\n",
    "class LazyWorker:\n",
    "    \"\"\"Worker class with a method that sleep and returns a value random or not\"\"\"\n",
    "    randomize_value = None\n",
    "    \n",
    "    def __init__(self,\n",
    "                 snooze=randomize_value,\n",
    "                 return_value=randomize_value):\n",
    "        self.snooze = (\n",
    "            random.randint(1, 3)\n",
    "            if snooze == LazyWorker.randomize_value \n",
    "            else snooze\n",
    "        )\n",
    "        self.return_value = (\n",
    "            random.randint(1, 2) % 2 == 0 \n",
    "            if return_value == LazyWorker.randomize_value\n",
    "            else return_value\n",
    "        )\n",
    "        \n",
    "    def __str__(self):\n",
    "        return f'{type(self).__name__} sleeping for {self.snooze} seconds returns {self.return_value}'\n",
    "        \n",
    "    def runner(self):\n",
    "        print(f'{self} ...')\n",
    "        time.sleep(self.snooze)\n",
    "        print(f'{self} done')\n",
    "        return self.return_value"
   ]
  },
  {
   "cell_type": "code",
   "execution_count": null,
   "metadata": {},
   "outputs": [],
   "source": [
    "# all slow\n",
    "\n",
    "passt_wrkr = LazyWorker(snooze=1, return_value=False)\n",
    "shortc_wrkr = LazyWorker(snooze=3, return_value=True)\n",
    "print(passt_wrkr) \n",
    "print(shortc_wrkr)"
   ]
  },
  {
   "cell_type": "code",
   "execution_count": null,
   "metadata": {},
   "outputs": [],
   "source": [
    "# or's\n",
    "print(passt_wrkr.runner() or passt_wrkr.runner() or shortc_wrkr.runner() or passt_wrkr.runner())"
   ]
  },
  {
   "cell_type": "code",
   "execution_count": null,
   "metadata": {},
   "outputs": [],
   "source": [
    "# any list\n",
    "print(any([passt_wrkr.runner(),passt_wrkr.runner(),shortc_wrkr.runner(),passt_wrkr.runner()]))\n"
   ]
  },
  {
   "cell_type": "code",
   "execution_count": null,
   "metadata": {},
   "outputs": [],
   "source": [
    "# any generator\n",
    "print(any( \n",
    "    i for i in [passt_wrkr.runner(),passt_wrkr.runner(),shortc_wrkr.runner(),passt_wrkr.runner()] )\n",
    ")\n"
   ]
  },
  {
   "cell_type": "code",
   "execution_count": null,
   "metadata": {},
   "outputs": [],
   "source": [
    "# any generator lazy eval\n",
    "print(any(\n",
    "    i.runner() for i in [passt_wrkr,passt_wrkr,shortc_wrkr,passt_wrkr] )\n",
    ")"
   ]
  },
  {
   "cell_type": "code",
   "execution_count": null,
   "metadata": {},
   "outputs": [],
   "source": [
    "# hack gen\n",
    "def hack_gen():\n",
    "    yield passt_wrkr.runner()\n",
    "    yield passt_wrkr.runner()\n",
    "    yield shortc_wrkr.runner()\n",
    "    yield passt_wrkr.runner()\n",
    "    \n",
    "gen = hack_gen()\n",
    "print(type(gen))"
   ]
  },
  {
   "cell_type": "code",
   "execution_count": null,
   "metadata": {},
   "outputs": [],
   "source": [
    "# hack generator lazy eval\n",
    "print(any(gen))"
   ]
  }
 ],
 "metadata": {
  "kernelspec": {
   "display_name": "Python 3",
   "language": "python",
   "name": "python3"
  },
  "language_info": {
   "codemirror_mode": {
    "name": "ipython",
    "version": 3
   },
   "file_extension": ".py",
   "mimetype": "text/x-python",
   "name": "python",
   "nbconvert_exporter": "python",
   "pygments_lexer": "ipython3",
   "version": "3.8.3"
  }
 },
 "nbformat": 4,
 "nbformat_minor": 4
}
